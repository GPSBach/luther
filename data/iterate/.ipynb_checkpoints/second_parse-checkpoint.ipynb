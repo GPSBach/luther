{
 "cells": [
  {
   "cell_type": "code",
   "execution_count": 11,
   "metadata": {},
   "outputs": [],
   "source": [
    "import pandas as pd\n",
    "import numpy as np\n",
    "import googlemaps\n",
    "import pickle as pkl\n",
    "%matplotlib inline\n",
    "\n",
    "\"\"\"\n",
    "Read in data\n",
    "\"\"\"\n",
    "\n",
    "# read in sale data\n",
    "sale=pd.DataFrame()\n",
    "for x in range (0,8000,100):\n",
    "    data = pd.read_csv('./APIreturns/sale_{}.csv'.format(x))\n",
    "    sale=sale.append(data,ignore_index=True)\n",
    "\n",
    "\"\"\"\n",
    "Parse google transit duration times into floats\n",
    "\"\"\"\n",
    "sale['duration_float'] = np.nan\n",
    "for index, row in sale.iterrows():\n",
    "    values=row['duration_trip']\\\n",
    "    .replace('[','')\\\n",
    "    .replace(']','')\\\n",
    "    .replace(\"'\",\"\")\\\n",
    "    .split()\n",
    "#     if index % 1000 == 0:\n",
    "#         print(index)\n",
    "    if len(values)==2:\n",
    "        sale['duration_float'].iloc[index] = float(values[0])\n",
    "    elif len(values)==4:\n",
    "        sale['duration_float'].iloc[index] = float(values[0])*60 + float(values[2])\n",
    "        \n",
    "with open('./luther_model_data_full.pkl', 'wb') as picklefile:\n",
    "    pkl.dump(sale, picklefile)"
   ]
  }
 ],
 "metadata": {
  "kernelspec": {
   "display_name": "Python 3",
   "language": "python",
   "name": "python3"
  },
  "language_info": {
   "codemirror_mode": {
    "name": "ipython",
    "version": 3
   },
   "file_extension": ".py",
   "mimetype": "text/x-python",
   "name": "python",
   "nbconvert_exporter": "python",
   "pygments_lexer": "ipython3",
   "version": "3.6.6"
  },
  "toc": {
   "base_numbering": 1,
   "nav_menu": {},
   "number_sections": true,
   "sideBar": true,
   "skip_h1_title": false,
   "title_cell": "Table of Contents",
   "title_sidebar": "Contents",
   "toc_cell": false,
   "toc_position": {},
   "toc_section_display": true,
   "toc_window_display": false
  },
  "varInspector": {
   "cols": {
    "lenName": 16,
    "lenType": 16,
    "lenVar": 40
   },
   "kernels_config": {
    "python": {
     "delete_cmd_postfix": "",
     "delete_cmd_prefix": "del ",
     "library": "var_list.py",
     "varRefreshCmd": "print(var_dic_list())"
    },
    "r": {
     "delete_cmd_postfix": ") ",
     "delete_cmd_prefix": "rm(",
     "library": "var_list.r",
     "varRefreshCmd": "cat(var_dic_list()) "
    }
   },
   "types_to_exclude": [
    "module",
    "function",
    "builtin_function_or_method",
    "instance",
    "_Feature"
   ],
   "window_display": false
  }
 },
 "nbformat": 4,
 "nbformat_minor": 2
}
