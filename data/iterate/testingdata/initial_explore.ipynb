{
 "cells": [
  {
   "cell_type": "code",
   "execution_count": 1,
   "metadata": {},
   "outputs": [],
   "source": [
    "import pandas as pd"
   ]
  },
  {
   "cell_type": "code",
   "execution_count": 2,
   "metadata": {},
   "outputs": [],
   "source": [
    "df = pd.read_json('soldtest.jl',lines=True)"
   ]
  },
  {
   "cell_type": "code",
   "execution_count": 10,
   "metadata": {},
   "outputs": [
    {
     "data": {
      "text/plain": [
       "(603, 25)"
      ]
     },
     "execution_count": 10,
     "metadata": {},
     "output_type": "execute_result"
    }
   ],
   "source": [
    "df.shape"
   ]
  },
  {
   "cell_type": "code",
   "execution_count": 14,
   "metadata": {},
   "outputs": [
    {
     "data": {
      "text/plain": [
       "Index(['address', 'area', 'bathrooms', 'bedrooms', 'city_state', 'dates',\n",
       "       'days_on_Trulia', 'events', 'lot_size', 'lot_size_units',\n",
       "       'neighborhood', 'overview', 'price', 'price_history',\n",
       "       'price_per_square_foot', 'prices', 'property_tax',\n",
       "       'property_tax_assessment_improvements', 'property_tax_assessment_land',\n",
       "       'property_tax_assessment_total', 'property_tax_assessment_year',\n",
       "       'property_tax_market_value', 'url', 'views', 'year_built'],\n",
       "      dtype='object')"
      ]
     },
     "execution_count": 14,
     "metadata": {},
     "output_type": "execute_result"
    }
   ],
   "source": [
    "df.columns"
   ]
  },
  {
   "cell_type": "code",
   "execution_count": 22,
   "metadata": {},
   "outputs": [
    {
     "data": {
      "text/plain": [
       "0                                                   NaN\n",
       "1                                                   NaN\n",
       "2                                            [$190,000]\n",
       "3                                                   NaN\n",
       "4                                                   NaN\n",
       "5                                                   NaN\n",
       "6                                                   NaN\n",
       "7                                                   NaN\n",
       "8                                                   NaN\n",
       "9                                                   NaN\n",
       "10                                                  NaN\n",
       "11     [$175,000, $178,000, $42,000, $280,000, $34,000]\n",
       "12                                                  NaN\n",
       "13                                                  NaN\n",
       "14                                                  NaN\n",
       "15                                                  NaN\n",
       "16                                                  NaN\n",
       "17                                                  NaN\n",
       "18                                                  NaN\n",
       "19                                                  NaN\n",
       "20                                                  NaN\n",
       "21                                                  NaN\n",
       "22                                                  NaN\n",
       "23                                                  NaN\n",
       "24                                                  NaN\n",
       "25                                                  NaN\n",
       "26                                                  NaN\n",
       "27                                                  NaN\n",
       "28                                                  NaN\n",
       "29                                                  NaN\n",
       "                            ...                        \n",
       "70                                                  NaN\n",
       "71                                                  NaN\n",
       "72                                                  NaN\n",
       "73                                                  NaN\n",
       "74                                                  NaN\n",
       "75                                                  NaN\n",
       "76                                                  NaN\n",
       "77                                                  NaN\n",
       "78                                                  NaN\n",
       "79                                                  NaN\n",
       "80                                                  NaN\n",
       "81                                                  NaN\n",
       "82                                                  NaN\n",
       "83                                                  NaN\n",
       "84                                                  NaN\n",
       "85                                                  NaN\n",
       "86                                                  NaN\n",
       "87                                                  NaN\n",
       "88                                                  NaN\n",
       "89    [$249,000, $260,000, $260,000, $260,000, $199,...\n",
       "90                                                  NaN\n",
       "91                                                  NaN\n",
       "92                                                  NaN\n",
       "93                                                  NaN\n",
       "94                                                  NaN\n",
       "95                                                  NaN\n",
       "96                                                  NaN\n",
       "97                                                  NaN\n",
       "98                                                  NaN\n",
       "99                                                  NaN\n",
       "Name: prices, Length: 100, dtype: object"
      ]
     },
     "execution_count": 22,
     "metadata": {},
     "output_type": "execute_result"
    }
   ],
   "source": [
    "df.prices.head(100)"
   ]
  },
  {
   "cell_type": "code",
   "execution_count": null,
   "metadata": {},
   "outputs": [],
   "source": []
  }
 ],
 "metadata": {
  "kernelspec": {
   "display_name": "Python 3",
   "language": "python",
   "name": "python3"
  },
  "language_info": {
   "codemirror_mode": {
    "name": "ipython",
    "version": 3
   },
   "file_extension": ".py",
   "mimetype": "text/x-python",
   "name": "python",
   "nbconvert_exporter": "python",
   "pygments_lexer": "ipython3",
   "version": "3.6.6"
  },
  "toc": {
   "base_numbering": 1,
   "nav_menu": {},
   "number_sections": true,
   "sideBar": true,
   "skip_h1_title": false,
   "title_cell": "Table of Contents",
   "title_sidebar": "Contents",
   "toc_cell": false,
   "toc_position": {},
   "toc_section_display": true,
   "toc_window_display": false
  },
  "varInspector": {
   "cols": {
    "lenName": 16,
    "lenType": 16,
    "lenVar": 40
   },
   "kernels_config": {
    "python": {
     "delete_cmd_postfix": "",
     "delete_cmd_prefix": "del ",
     "library": "var_list.py",
     "varRefreshCmd": "print(var_dic_list())"
    },
    "r": {
     "delete_cmd_postfix": ") ",
     "delete_cmd_prefix": "rm(",
     "library": "var_list.r",
     "varRefreshCmd": "cat(var_dic_list()) "
    }
   },
   "types_to_exclude": [
    "module",
    "function",
    "builtin_function_or_method",
    "instance",
    "_Feature"
   ],
   "window_display": false
  }
 },
 "nbformat": 4,
 "nbformat_minor": 2
}
