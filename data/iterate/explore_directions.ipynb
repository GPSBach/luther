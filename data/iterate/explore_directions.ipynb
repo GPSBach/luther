{
 "cells": [
  {
   "cell_type": "code",
   "execution_count": 28,
   "metadata": {},
   "outputs": [],
   "source": [
    "import pandas as pd\n",
    "import matplotlib.pyplot as plt\n",
    "import matplotlib\n",
    "import seaborn as sns\n",
    "import numpy as np\n",
    "from scipy import stats\n",
    "import googlemaps\n",
    "from datetime import datetime\n",
    "from pandas.io.json import json_normalize\n",
    "import pickle as pkl\n",
    "%matplotlib inline"
   ]
  },
  {
   "cell_type": "code",
   "execution_count": 29,
   "metadata": {},
   "outputs": [],
   "source": [
    "\"\"\"\n",
    "Read in data\n",
    "\"\"\"\n",
    "\n",
    "# # read from bash concat\n",
    "# sale = pd.read_csv('./APIreturns/directions.csv')\n",
    "\n",
    "# # sale data\n",
    "# for x in range (0,8000,100):\n",
    "#     if x == 0:\n",
    "#         sale = pd.read_csv('./APIreturns/sale_{}.csv'.format(x))\n",
    "#     else:\n",
    "#         temp = pd.read_csv('./APIreturns/sale_{}.csv'.format(x))\n",
    "#         sale = pd.concat(sale,temp)\n",
    "\n",
    "# appended_data = []\n",
    "# for x in range (0,8000,100):\n",
    "#     data = pd.read_csv('./APIreturns/sale_{}.csv'.format(x))\n",
    "#     # store DataFrame in list\n",
    "#     appended_data.append(data)\n",
    "# # see pd.concat documentation for more info\n",
    "# appended_data = pd.concat(appended_data, axis=1)\n",
    "\n",
    "# read in sale data\n",
    "sale=pd.DataFrame()\n",
    "for x in range (0,8000,100):\n",
    "    data = pd.read_csv('./APIreturns/sale_{}.csv'.format(x))\n",
    "    sale=sale.append(data,ignore_index=True)\n",
    "\n"
   ]
  },
  {
   "cell_type": "code",
   "execution_count": 30,
   "metadata": {},
   "outputs": [
    {
     "name": "stdout",
     "output_type": "stream",
     "text": [
      "0\n"
     ]
    },
    {
     "name": "stderr",
     "output_type": "stream",
     "text": [
      "/anaconda3/lib/python3.6/site-packages/pandas/core/indexing.py:189: SettingWithCopyWarning: \n",
      "A value is trying to be set on a copy of a slice from a DataFrame\n",
      "\n",
      "See the caveats in the documentation: http://pandas.pydata.org/pandas-docs/stable/indexing.html#indexing-view-versus-copy\n",
      "  self._setitem_with_indexer(indexer, value)\n"
     ]
    },
    {
     "name": "stdout",
     "output_type": "stream",
     "text": [
      "100\n",
      "200\n",
      "300\n",
      "400\n",
      "500\n",
      "600\n",
      "700\n",
      "800\n",
      "900\n",
      "1000\n",
      "1100\n",
      "1200\n",
      "1300\n",
      "1400\n",
      "1500\n",
      "1600\n",
      "1700\n",
      "1800\n",
      "1900\n",
      "2000\n",
      "2100\n",
      "2200\n",
      "2300\n",
      "2400\n",
      "2500\n",
      "2600\n",
      "2700\n",
      "2800\n",
      "2900\n",
      "3000\n",
      "3100\n",
      "3200\n",
      "3300\n",
      "3400\n",
      "3500\n",
      "3600\n",
      "3700\n",
      "3800\n",
      "3900\n",
      "4000\n",
      "4100\n",
      "4200\n",
      "4300\n",
      "4400\n",
      "4500\n",
      "4600\n",
      "4700\n",
      "4800\n",
      "4900\n",
      "5000\n",
      "5100\n",
      "5200\n",
      "5300\n",
      "5400\n",
      "5500\n",
      "5600\n",
      "5700\n",
      "5800\n",
      "5900\n",
      "6000\n",
      "6100\n",
      "6200\n",
      "6300\n",
      "6400\n",
      "6500\n",
      "6600\n",
      "6700\n",
      "6800\n",
      "6900\n",
      "7000\n",
      "7100\n",
      "7200\n",
      "7300\n",
      "7400\n",
      "7500\n",
      "7600\n",
      "7700\n",
      "7800\n",
      "7900\n"
     ]
    }
   ],
   "source": [
    "sale['duration_float'] = np.nan\n",
    "for index, row in sale.iterrows():\n",
    "    values=row['duration_trip']\\\n",
    "    .replace('[','')\\\n",
    "    .replace(']','')\\\n",
    "    .replace(\"'\",\"\")\\\n",
    "    .split()\n",
    "    if index % 100 == 0:\n",
    "        print(index)\n",
    "    if len(values)==2:\n",
    "        sale['duration_float'].iloc[index] = float(values[0])\n",
    "    elif len(values)==4:\n",
    "        sale['duration_float'].iloc[index] = float(values[0])*60 + float(values[2])"
   ]
  },
  {
   "cell_type": "code",
   "execution_count": 31,
   "metadata": {},
   "outputs": [
    {
     "data": {
      "text/plain": [
       "Index(['Unnamed: 0', 'index', 'address', 'area', 'bathrooms', 'bedrooms',\n",
       "       'city_state', 'dates', 'days_on_Trulia', 'events',\n",
       "       'listing_information', 'listing_information_date_updated', 'lot_size',\n",
       "       'lot_size_units', 'neighborhood', 'overview', 'price', 'price_history',\n",
       "       'price_per_square_foot', 'prices', 'public_records',\n",
       "       'public_records_date_updated', 'url', 'views', 'year_built', 'zipcode',\n",
       "       'median_income', 'mean_income', 'population', 'ID', 'distance_steps',\n",
       "       'distance_trip', 'duration_steps', 'duration_trip', 'mode_steps',\n",
       "       'vehicle_steps', 'line_steps', 'latitude', 'longitude',\n",
       "       'duration_float'],\n",
       "      dtype='object')"
      ]
     },
     "execution_count": 31,
     "metadata": {},
     "output_type": "execute_result"
    }
   ],
   "source": [
    "sale.columns"
   ]
  },
  {
   "cell_type": "code",
   "execution_count": 32,
   "metadata": {},
   "outputs": [],
   "source": [
    "#list of filtering parameters\n",
    "clean = ['url','address','city_state','price','address','bedrooms','bathrooms','area','year_built','duration_float','mean_income','median_income','zipcode']\n",
    "\n",
    "#drop data with missing data in clean\n",
    "cleaned = sale.dropna(subset = clean)\n",
    "\n",
    "\n",
    "\n"
   ]
  },
  {
   "cell_type": "code",
   "execution_count": 33,
   "metadata": {},
   "outputs": [
    {
     "data": {
      "text/plain": [
       "url                object\n",
       "address            object\n",
       "city_state         object\n",
       "price             float64\n",
       "address            object\n",
       "bedrooms          float64\n",
       "bathrooms         float64\n",
       "area              float64\n",
       "year_built        float64\n",
       "duration_float    float64\n",
       "mean_income       float64\n",
       "median_income       int64\n",
       "zipcode           float64\n",
       "dtype: object"
      ]
     },
     "execution_count": 33,
     "metadata": {},
     "output_type": "execute_result"
    }
   ],
   "source": [
    "cleaned2 = cleaned[clean]\n",
    "cleaned2.dtypes"
   ]
  },
  {
   "cell_type": "code",
   "execution_count": 13,
   "metadata": {},
   "outputs": [
    {
     "data": {
      "text/plain": [
       "Index(['url', 'address', 'city_state', 'price', 'address', 'bedrooms',\n",
       "       'bathrooms', 'area', 'year_built', 'duration_float', 'mean_income',\n",
       "       'median_income', 'zipcode'],\n",
       "      dtype='object')"
      ]
     },
     "execution_count": 13,
     "metadata": {},
     "output_type": "execute_result"
    }
   ],
   "source": [
    "cleaned2.columns"
   ]
  },
  {
   "cell_type": "code",
   "execution_count": 34,
   "metadata": {},
   "outputs": [],
   "source": [
    "with open('./luther_model_data_1.pkl', 'wb') as picklefile:\n",
    "    pkl.dump(cleaned2, picklefile)"
   ]
  },
  {
   "cell_type": "code",
   "execution_count": 89,
   "metadata": {},
   "outputs": [
    {
     "ename": "TypeError",
     "evalue": "filter() got an unexpected keyword argument 'subset'",
     "output_type": "error",
     "traceback": [
      "\u001b[0;31m---------------------------------------------------------------------------\u001b[0m",
      "\u001b[0;31mTypeError\u001b[0m                                 Traceback (most recent call last)",
      "\u001b[0;32m<ipython-input-89-4718df20f299>\u001b[0m in \u001b[0;36m<module>\u001b[0;34m()\u001b[0m\n\u001b[1;32m      4\u001b[0m \u001b[0;34m\u001b[0m\u001b[0m\n\u001b[1;32m      5\u001b[0m \u001b[0;31m# filter down to correlation parameters\u001b[0m\u001b[0;34m\u001b[0m\u001b[0;34m\u001b[0m\u001b[0m\n\u001b[0;32m----> 6\u001b[0;31m \u001b[0msale\u001b[0m \u001b[0;34m=\u001b[0m \u001b[0msale\u001b[0m\u001b[0;34m.\u001b[0m\u001b[0mfilter\u001b[0m\u001b[0;34m(\u001b[0m\u001b[0msubset\u001b[0m\u001b[0;34m=\u001b[0m\u001b[0mclean\u001b[0m\u001b[0;34m,\u001b[0m\u001b[0maxis\u001b[0m\u001b[0;34m=\u001b[0m\u001b[0;36m1\u001b[0m\u001b[0;34m)\u001b[0m\u001b[0;34m\u001b[0m\u001b[0m\n\u001b[0m\u001b[1;32m      7\u001b[0m \u001b[0;34m\u001b[0m\u001b[0m\n\u001b[1;32m      8\u001b[0m \u001b[0;31m# filter out outliers\u001b[0m\u001b[0;34m\u001b[0m\u001b[0;34m\u001b[0m\u001b[0m\n",
      "\u001b[0;31mTypeError\u001b[0m: filter() got an unexpected keyword argument 'subset'"
     ]
    }
   ],
   "source": [
    "\"\"\"\n",
    "Check initial correlations\n",
    "\"\"\"\n",
    "\n",
    "# filter down to correlation parameters\n",
    "sale = sale.filter(,axis=1)\n",
    "\n",
    "# filter out outliers\n",
    "sale = sale[(np.abs(stats.zscore(sale)) < 3).all(axis=1)]\n",
    "\n",
    "# correlation matrix\n",
    "\n",
    "corr = sale.corr()"
   ]
  },
  {
   "cell_type": "code",
   "execution_count": null,
   "metadata": {},
   "outputs": [],
   "source": [
    "\"\"\"\n",
    "Plotting\n",
    "\"\"\"\n",
    "\n",
    "### pair plot ###\n",
    "\n",
    "## plot the pairplot\n",
    "initial_pairs = sns.pairplot(sale,diag_kind='kde')\n",
    "\n",
    "# ### heatmap ###\n",
    "\n",
    "# # #initialize figure\n",
    "# # fig, ax = plt.subplots(1,1, figsize = (1, 5), dpi=300)\n",
    "\n",
    "# # plot the heatmap\n",
    "# sns.heatmap(corr, annot = True,\n",
    "#         xticklabels=corr.columns,\n",
    "#         yticklabels=corr.columns,\n",
    "#        cmap=\"cividis\")\n"
   ]
  }
 ],
 "metadata": {
  "kernelspec": {
   "display_name": "Python 3",
   "language": "python",
   "name": "python3"
  },
  "language_info": {
   "codemirror_mode": {
    "name": "ipython",
    "version": 3
   },
   "file_extension": ".py",
   "mimetype": "text/x-python",
   "name": "python",
   "nbconvert_exporter": "python",
   "pygments_lexer": "ipython3",
   "version": "3.6.6"
  },
  "toc": {
   "base_numbering": 1,
   "nav_menu": {},
   "number_sections": true,
   "sideBar": true,
   "skip_h1_title": false,
   "title_cell": "Table of Contents",
   "title_sidebar": "Contents",
   "toc_cell": false,
   "toc_position": {},
   "toc_section_display": true,
   "toc_window_display": false
  },
  "varInspector": {
   "cols": {
    "lenName": 16,
    "lenType": 16,
    "lenVar": 40
   },
   "kernels_config": {
    "python": {
     "delete_cmd_postfix": "",
     "delete_cmd_prefix": "del ",
     "library": "var_list.py",
     "varRefreshCmd": "print(var_dic_list())"
    },
    "r": {
     "delete_cmd_postfix": ") ",
     "delete_cmd_prefix": "rm(",
     "library": "var_list.r",
     "varRefreshCmd": "cat(var_dic_list()) "
    }
   },
   "types_to_exclude": [
    "module",
    "function",
    "builtin_function_or_method",
    "instance",
    "_Feature"
   ],
   "window_display": false
  }
 },
 "nbformat": 4,
 "nbformat_minor": 2
}
