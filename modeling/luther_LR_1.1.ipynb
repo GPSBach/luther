{
 "cells": [
  {
   "cell_type": "code",
   "execution_count": 79,
   "metadata": {},
   "outputs": [],
   "source": [
    "import pandas as pd\n",
    "import matplotlib.pyplot as plt\n",
    "import matplotlib\n",
    "import seaborn as sns\n",
    "import numpy as np\n",
    "import pprint as pprint\n",
    "from scipy import stats\n",
    "import pickle as pkl\n",
    "from sklearn.linear_model import LinearRegression\n",
    "from sklearn.model_selection import train_test_split, GridSearchCV\n",
    "from sklearn.linear_model import Ridge, Lasso\n",
    "from sklearn import metrics\n",
    "from sklearn.preprocessing import PolynomialFeatures\n",
    "from sklearn.preprocessing import StandardScaler\n",
    "from sklearn.pipeline import make_pipeline\n",
    "from sklearn.cross_validation import train_test_split\n",
    "from sklearn.cross_validation import KFold\n",
    "from sklearn.metrics import mean_squared_error\n",
    "from sklearn.cross_validation import cross_val_score\n",
    "%matplotlib inline"
   ]
  },
  {
   "cell_type": "code",
   "execution_count": 102,
   "metadata": {},
   "outputs": [],
   "source": [
    "\"\"\"\n",
    "Functions\n",
    "\"\"\"\n",
    "\n",
    "def calc_NMSE_error(X, y, model):\n",
    "    '''returns in-sample error for already fit model.'''\n",
    "    predictions = model.predict(X)\n",
    "    mse = mean_squared_error(y, predictions)\n",
    "    nmse = -1*mse\n",
    "    return nmse"
   ]
  },
  {
   "cell_type": "code",
   "execution_count": 80,
   "metadata": {},
   "outputs": [],
   "source": [
    "with open(\"../data/iterate/luther_model_data_full.pkl\", 'rb') as picklefile:\n",
    "    sale = pkl.load(picklefile)\n",
    "    \n",
    "# potential zipcode filter to NW side\n",
    "zips_nw = [60611, 60610, 60654, 60642,\n",
    "           60622, 60647, 60614, 60657,\n",
    "           60639, 60641, 60630, 60618,\n",
    "           60613, 60640, 60625, 60660,\n",
    "           60626, 60659, 60645]\n",
    "\n",
    "sale = sale[sale['zipcode'].isin(zips_nw)]"
   ]
  },
  {
   "cell_type": "code",
   "execution_count": 94,
   "metadata": {
    "scrolled": true
   },
   "outputs": [
    {
     "name": "stdout",
     "output_type": "stream",
     "text": [
      "(1195, 7)\n",
      "0.8280117815087766\n"
     ]
    }
   ],
   "source": [
    "\"\"\"\n",
    "build/filter/transform target and features\n",
    "\"\"\"\n",
    "\n",
    "model_params = ['price','bedrooms','bathrooms','area','median_income','duration_float','lot_size','year_built']\n",
    "\n",
    "sale = sale.dropna(subset = model_params)\n",
    "\n",
    "# filter down to correlation parameters\n",
    "model = sale[model_params]\n",
    "\n",
    "#filter out outliers\n",
    "model = model[(np.abs(stats.zscore(model)) < 3).all(axis=1)]\n",
    "\n",
    "model['price']=model['price'].apply(np.log10)\n",
    "model['area']=model['area'].apply(np.log10)\n",
    "\n",
    "\"\"\"\n",
    "set up train test split\n",
    "\"\"\"\n",
    "# make data for linear regression\n",
    "y = model.pop('price').values\n",
    "X = StandardScaler().fit_transform(model)\n",
    "\n",
    "# first split out 20% of the data as a validation set\n",
    "X_training, X_holdout, y_training, y_holdout = train_test_split(X, y, test_size=0.2)\n",
    "\n",
    "# now split out another 20% for cross validation\n",
    "X_train, X_test, y_train, y_test = train_test_split(X, y, test_size=0.3333333)\n",
    "\n",
    "#build initial regression model\n",
    "\n",
    "### cross validation testing\n",
    "#setting up as a polynomial but using degree 1, just to have the easy option later\n",
    "degree = 2\n",
    "est = make_pipeline(PolynomialFeatures(degree), LinearRegression())\n",
    "lr = LinearRegression(fit_intercept=True)\n",
    "\n",
    "scores_R = cross_val_score(est,\n",
    "                         X_training,\n",
    "                         y_training,\n",
    "                         cv=10)#, scoring='neg_mean_squared_error')\n",
    "scores_RMSE = cross_val_score(est,\n",
    "                         X_training,\n",
    "                         y_training,\n",
    "                         cv=10, scoring='neg_mean_squared_error')\n",
    "\n",
    "print(model.shape)\n",
    "print(np.mean(scores_R))\n"
   ]
  },
  {
   "cell_type": "code",
   "execution_count": 104,
   "metadata": {},
   "outputs": [
    {
     "name": "stdout",
     "output_type": "stream",
     "text": [
      "-0.02029226988837509\n",
      "-0.026237839339829087\n"
     ]
    }
   ],
   "source": [
    "\"\"\"\n",
    "reduce parameters with lasso\n",
    "\"\"\"\n",
    "\n",
    "# make model with Lasso grid search on train subset of data\n",
    "lasso = Lasso()\n",
    "alphas = np.logspace(-5,1,num=6)\n",
    "params = {'alpha': alphas, 'fit_intercept': [True,False]}\n",
    "grid = GridSearchCV(lasso,params, cv=10, scoring='neg_mean_squared_error', n_jobs=1)\n",
    "reduce_fit = make_pipeline(PolynomialFeatures(degree), grid)\n",
    "reduce_fit.fit(X_train, y_train)\n",
    "#print(reduce_fit.named_steps['gridsearchcv'].best_params_)\n",
    "print(reduce_fit.named_steps['gridsearchcv'].best_score_)\n",
    "#print(reduce_fit.named_steps['gridsearchcv'].best_estimator_.coef_[0:])\n",
    "\n",
    "# check for overfitting by testing against \n",
    "cv2 = reduce_fit.named_steps['gridsearchcv'].best_estimator_\n",
    "cv2.fit(X_train,y_train)\n",
    "print(calc_NMSE_error(X_test,y_test,cv2))"
   ]
  },
  {
   "cell_type": "code",
   "execution_count": 110,
   "metadata": {},
   "outputs": [
    {
     "name": "stdout",
     "output_type": "stream",
     "text": [
      "Model R^2 of: 0.7889033028655257\n"
     ]
    },
    {
     "name": "stderr",
     "output_type": "stream",
     "text": [
      "/anaconda3/lib/python3.6/site-packages/scipy/stats/stats.py:1713: FutureWarning: Using a non-tuple sequence for multidimensional indexing is deprecated; use `arr[tuple(seq)]` instead of `arr[seq]`. In the future this will be interpreted as an array index, `arr[np.array(seq)]`, which will result either in an error or a different result.\n",
      "  return np.add.reduce(sorted[indexer] * weights, axis=axis) / sumval\n"
     ]
    },
    {
     "data": {
      "image/png": "[encoded data removed]",
      "text/plain": [
       "<Figure size 432x288 with 1 Axes>"
      ]
     },
     "metadata": {},
     "output_type": "display_data"
    }
   ],
   "source": [
    "'''\n",
    "Apply to full dataset\n",
    "'''\n",
    "\n",
    "# errors on holdout\n",
    "errors_fit = cv2.fit(X_training,y_training)\n",
    "final_error = errors_fit.score(X_holdout,y_holdout)\n",
    "print('Model R^2 of: ' + str(final_error))\n",
    "\n",
    "# fit to model\n",
    "final_model = cv2.fit(X,y)\n",
    "\n",
    "# make a plot\n",
    "y_pred = final_model.predict(X)\n",
    "ax = sns.regplot(10**y,10**y_pred)"
   ]
  }
 ],
 "metadata": {
  "kernelspec": {
   "display_name": "Python 3",
   "language": "python",
   "name": "python3"
  },
  "language_info": {
   "codemirror_mode": {
    "name": "ipython",
    "version": 3
   },
   "file_extension": ".py",
   "mimetype": "text/x-python",
   "name": "python",
   "nbconvert_exporter": "python",
   "pygments_lexer": "ipython3",
   "version": "3.6.6"
  },
  "toc": {
   "base_numbering": 1,
   "nav_menu": {},
   "number_sections": true,
   "sideBar": true,
   "skip_h1_title": false,
   "title_cell": "Table of Contents",
   "title_sidebar": "Contents",
   "toc_cell": false,
   "toc_position": {},
   "toc_section_display": true,
   "toc_window_display": false
  },
  "varInspector": {
   "cols": {
    "lenName": 16,
    "lenType": 16,
    "lenVar": 40
   },
   "kernels_config": {
    "python": {
     "delete_cmd_postfix": "",
     "delete_cmd_prefix": "del ",
     "library": "var_list.py",
     "varRefreshCmd": "print(var_dic_list())"
    },
    "r": {
     "delete_cmd_postfix": ") ",
     "delete_cmd_prefix": "rm(",
     "library": "var_list.r",
     "varRefreshCmd": "cat(var_dic_list()) "
    }
   },
   "types_to_exclude": [
    "module",
    "function",
    "builtin_function_or_method",
    "instance",
    "_Feature"
   ],
   "window_display": false
  }
 },
 "nbformat": 4,
 "nbformat_minor": 2
}
