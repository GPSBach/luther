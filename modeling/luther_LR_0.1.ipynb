{
 "cells": [
  {
   "cell_type": "code",
   "execution_count": 1,
   "metadata": {},
   "outputs": [
    {
     "name": "stderr",
     "output_type": "stream",
     "text": [
      "/anaconda3/lib/python3.6/site-packages/sklearn/cross_validation.py:41: DeprecationWarning: This module was deprecated in version 0.18 in favor of the model_selection module into which all the refactored classes and functions are moved. Also note that the interface of the new CV iterators are different from that of this module. This module will be removed in 0.20.\n",
      "  \"This module will be removed in 0.20.\", DeprecationWarning)\n"
     ]
    }
   ],
   "source": [
    "import pandas as pd\n",
    "import matplotlib.pyplot as plt\n",
    "import matplotlib\n",
    "import seaborn as sns\n",
    "import numpy as np\n",
    "from scipy import stats\n",
    "import pickle as pkl\n",
    "from sklearn.linear_model import LinearRegression\n",
    "from sklearn import metrics\n",
    "from sklearn.preprocessing import PolynomialFeatures\n",
    "from sklearn.preprocessing import StandardScaler\n",
    "from sklearn.pipeline import make_pipeline\n",
    "from sklearn.cross_validation import train_test_split\n",
    "from sklearn.cross_validation import KFold\n",
    "from sklearn.metrics import mean_squared_error\n",
    "from sklearn.cross_validation import cross_val_score\n",
    "%matplotlib inline"
   ]
  },
  {
   "cell_type": "code",
   "execution_count": 4,
   "metadata": {},
   "outputs": [],
   "source": [
    "with open(\"../data/iterate/luther_model_data_1.pkl\", 'rb') as picklefile:\n",
    "    sale = pkl.load(picklefile)\n",
    "    \n",
    "# potential zipcode filter to NW side\n",
    "zips_nw = [60611, 60610, 60654, 60642,\n",
    "           60622, 60647, 60614, 60657,\n",
    "           60639, 60641, 60630, 60618,\n",
    "           60613, 60640, 60625, 60660,\n",
    "           60626, 60659, 60645]\n",
    "\n",
    "sale_nw = sale[sale['zipcode'].isin(zips_nw)]"
   ]
  },
  {
   "cell_type": "code",
   "execution_count": 7,
   "metadata": {},
   "outputs": [],
   "source": [
    "\"\"\"\n",
    "build/filter/transform target and features\n",
    "\"\"\"\n",
    "\n",
    "model_params = ['price','bedrooms','bathrooms','area','median_income','year_built','duration_float']\n",
    "\n",
    "# filter down to correlation parameters\n",
    "model = sale[model_params]\n",
    "\n",
    "#filter out outliers\n",
    "model = model[(np.abs(stats.zscore(model)) < 3).all(axis=1)]\n",
    "\n",
    "model['price']=model['price'].apply(np.log10)\n",
    "model['area']=model['area'].apply(np.log10)\n",
    "\n",
    "# make data for linear regression\n",
    "y = model.pop('price').values\n",
    "X = StandardScaler().fit_transform(model)"
   ]
  },
  {
   "cell_type": "code",
   "execution_count": 8,
   "metadata": {
    "scrolled": true
   },
   "outputs": [
    {
     "name": "stdout",
     "output_type": "stream",
     "text": [
      "mean CV R score = 0.6575516559606418\n",
      "validation R score = 0.6494677910597023\n"
     ]
    }
   ],
   "source": [
    "\"\"\"\n",
    "set up train test split\n",
    "\"\"\"\n",
    "\n",
    "# first split out 20% of the data as a validation set\n",
    "X_training, X_validate, y_training, y_validate = train_test_split(X, y, test_size=0.2)\n",
    "\n",
    "# now split out another 20% for cross validation\n",
    "X_train, X_test, y_train, y_test = train_test_split(X, y, test_size=0.3)\n",
    "\n",
    "#build initial regression model\n",
    "\n",
    "#setting up as a polynomial but using degree 1, just to have the easy option later\n",
    "degree = 1\n",
    "est = make_pipeline(PolynomialFeatures(degree), LinearRegression())\n",
    "lr = LinearRegression(fit_intercept=True)\n",
    "\n",
    "scores_R = cross_val_score(est,\n",
    "                         X_training,\n",
    "                         y_training,\n",
    "                         cv=10)#, scoring='neg_mean_squared_error')\n",
    "scores_RMSE = cross_val_score(est,\n",
    "                         X_training,\n",
    "                         y_training,\n",
    "                         cv=10, scoring='neg_mean_squared_error')\n",
    "print('mean CV R score = ' + str(np.mean(scores_R)))\n",
    "#print('mean CV RMSE score = ' + str(np.mean(np.sqrt(-scores_RMSE))))\n",
    "\n",
    "current_fit = lr.fit(X_training,y_training)\n",
    "scores_validate = lr.score(X_validate,y_validate)\n",
    "print('validation R score = ' + str(scores_validate))"
   ]
  },
  {
   "cell_type": "code",
   "execution_count": 245,
   "metadata": {},
   "outputs": [],
   "source": [
    "# fig, (ax1, ax2) = plt.subplots(1, 2, sharey=True)\n",
    "# ax1.hist(y,bins=50)\n",
    "# ax1.set_title('price - linear')\n",
    "# ax2.hist(np.log10(y),bins=50)\n",
    "# ax2.set_title('price - log')\n",
    "# ax2.set_xlim(3,7)\n",
    "\n",
    "#plt.hist(X[:,3])"
   ]
  },
  {
   "cell_type": "code",
   "execution_count": 177,
   "metadata": {},
   "outputs": [],
   "source": []
  },
  {
   "cell_type": "code",
   "execution_count": 171,
   "metadata": {},
   "outputs": [
    {
     "data": {
      "text/plain": [
       "0.6347782783606235"
      ]
     },
     "execution_count": 171,
     "metadata": {},
     "output_type": "execute_result"
    }
   ],
   "source": []
  },
  {
   "cell_type": "code",
   "execution_count": 178,
   "metadata": {},
   "outputs": [
    {
     "name": "stdout",
     "output_type": "stream",
     "text": [
      "[-0.58323914 -0.43747871 -0.57343243 -0.58067498 -0.59214878 -0.59595941\n",
      " -0.59134906 -0.57369241 -0.63564025 -0.62767689]\n"
     ]
    }
   ],
   "source": []
  },
  {
   "cell_type": "code",
   "execution_count": null,
   "metadata": {},
   "outputs": [],
   "source": []
  }
 ],
 "metadata": {
  "kernelspec": {
   "display_name": "Python 3",
   "language": "python",
   "name": "python3"
  },
  "language_info": {
   "codemirror_mode": {
    "name": "ipython",
    "version": 3
   },
   "file_extension": ".py",
   "mimetype": "text/x-python",
   "name": "python",
   "nbconvert_exporter": "python",
   "pygments_lexer": "ipython3",
   "version": "3.6.6"
  },
  "toc": {
   "base_numbering": 1,
   "nav_menu": {},
   "number_sections": true,
   "sideBar": true,
   "skip_h1_title": false,
   "title_cell": "Table of Contents",
   "title_sidebar": "Contents",
   "toc_cell": false,
   "toc_position": {},
   "toc_section_display": true,
   "toc_window_display": false
  },
  "varInspector": {
   "cols": {
    "lenName": 16,
    "lenType": 16,
    "lenVar": 40
   },
   "kernels_config": {
    "python": {
     "delete_cmd_postfix": "",
     "delete_cmd_prefix": "del ",
     "library": "var_list.py",
     "varRefreshCmd": "print(var_dic_list())"
    },
    "r": {
     "delete_cmd_postfix": ") ",
     "delete_cmd_prefix": "rm(",
     "library": "var_list.r",
     "varRefreshCmd": "cat(var_dic_list()) "
    }
   },
   "types_to_exclude": [
    "module",
    "function",
    "builtin_function_or_method",
    "instance",
    "_Feature"
   ],
   "window_display": false
  }
 },
 "nbformat": 4,
 "nbformat_minor": 2
}
