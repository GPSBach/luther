{
 "cells": [
  {
   "cell_type": "code",
   "execution_count": 11,
   "metadata": {},
   "outputs": [],
   "source": [
    "import pandas as pd\n",
    "import matplotlib.pyplot as plt\n",
    "import matplotlib\n",
    "import seaborn as sns\n",
    "import numpy as np\n",
    "from scipy import stats\n",
    "import pickle as pkl\n",
    "from sklearn.linear_model import LinearRegression\n",
    "from sklearn import metrics\n",
    "from sklearn.preprocessing import PolynomialFeatures\n",
    "from sklearn.preprocessing import StandardScaler\n",
    "from sklearn.pipeline import make_pipeline\n",
    "from sklearn.cross_validation import train_test_split\n",
    "from sklearn.cross_validation import KFold\n",
    "from sklearn.metrics import mean_squared_error\n",
    "from sklearn.cross_validation import cross_val_score\n",
    "%matplotlib inline"
   ]
  },
  {
   "cell_type": "code",
   "execution_count": 4,
   "metadata": {},
   "outputs": [],
   "source": [
    "def calc_RMSE_error(X, y, model):\n",
    "    '''returns in-sample error for already fit model.'''\n",
    "    predictions = model.predict(X)\n",
    "    mse = mean_squared_error(y, predictions)\n",
    "    rmse = np.sqrt(mse)\n",
    "    return rmse"
   ]
  },
  {
   "cell_type": "code",
   "execution_count": 5,
   "metadata": {},
   "outputs": [],
   "source": [
    "with open(\"../data/iterate/luther_model_data_full.pkl\", 'rb') as picklefile:\n",
    "    sale = pkl.load(picklefile)\n",
    "    \n",
    "# potential zipcode filter to NW side\n",
    "zips_nw = [60611, 60610, 60654, 60642,\n",
    "           60622, 60647, 60614, 60657,\n",
    "           60639, 60641, 60630, 60618,\n",
    "           60613, 60640, 60625, 60660,\n",
    "           60626, 60659, 60645]\n",
    "\n",
    "sale_nw = sale[sale['zipcode'].isin(zips_nw)]"
   ]
  },
  {
   "cell_type": "code",
   "execution_count": 10,
   "metadata": {},
   "outputs": [
    {
     "data": {
      "text/plain": [
       "Unnamed: 0                            int64\n",
       "index                                 int64\n",
       "address                              object\n",
       "area                                float64\n",
       "bathrooms                           float64\n",
       "bedrooms                            float64\n",
       "city_state                           object\n",
       "dates                                object\n",
       "days_on_Trulia                      float64\n",
       "events                               object\n",
       "listing_information                  object\n",
       "listing_information_date_updated     object\n",
       "lot_size                            float64\n",
       "lot_size_units                       object\n",
       "neighborhood                         object\n",
       "overview                             object\n",
       "price                               float64\n",
       "price_history                        object\n",
       "price_per_square_foot               float64\n",
       "prices                               object\n",
       "public_records                       object\n",
       "public_records_date_updated          object\n",
       "url                                  object\n",
       "views                               float64\n",
       "year_built                          float64\n",
       "zipcode                             float64\n",
       "median_income                         int64\n",
       "mean_income                         float64\n",
       "population                            int64\n",
       "ID                                    int64\n",
       "distance_steps                       object\n",
       "distance_trip                        object\n",
       "duration_steps                       object\n",
       "duration_trip                        object\n",
       "mode_steps                           object\n",
       "vehicle_steps                        object\n",
       "line_steps                           object\n",
       "latitude                             object\n",
       "longitude                            object\n",
       "duration_float                      float64\n",
       "dtype: object"
      ]
     },
     "execution_count": 10,
     "metadata": {},
     "output_type": "execute_result"
    }
   ],
   "source": [
    "sale.dtypes"
   ]
  },
  {
   "cell_type": "code",
   "execution_count": null,
   "metadata": {},
   "outputs": [],
   "source": [
    "ohe(sale[\"\"])"
   ]
  },
  {
   "cell_type": "code",
   "execution_count": 67,
   "metadata": {},
   "outputs": [],
   "source": [
    "\"\"\"\n",
    "build/filter/transform target and features\n",
    "\"\"\"\n",
    "\n",
    "model_params = ['price','bedrooms','bathrooms','area','median_income','year_built','duration_float']\n",
    "\n",
    "# filter down to correlation parameters\n",
    "sale = sale.dropna(subset=model_params)\n",
    "model = sale[model_params]\n",
    "\n",
    "\n",
    "#filter out outliers\n",
    "model = model[(np.abs(stats.zscore(model)) < 1).all(axis=1)]\n",
    "\n",
    "model['price']=model['price'].apply(np.log10)\n",
    "#model['area']=model['area'].apply(np.log10)\n",
    "\n",
    "# make data for linear regression\n",
    "y = model.pop('price').values\n",
    "X = StandardScaler().fit_transform(model)"
   ]
  },
  {
   "cell_type": "code",
   "execution_count": 68,
   "metadata": {},
   "outputs": [
    {
     "name": "stdout",
     "output_type": "stream",
     "text": [
      "[ 0.01677399  0.03107421  0.07183438  0.07733466  0.00213843 -0.07194573]\n",
      "5.4211370341782095\n"
     ]
    }
   ],
   "source": [
    "\"\"\"\n",
    "set up train test split\n",
    "\"\"\"\n",
    "\n",
    "# first split out 20% of the data as a validation set\n",
    "X_training, X_validate, y_training, y_validate = train_test_split(X, y, test_size=0.2)\n",
    "\n",
    "# now split out another 20% for cross validation\n",
    "X_train, X_test, y_train, y_test = train_test_split(X, y, test_size=0.3)\n",
    "\n",
    "#build initial regression model\n",
    "\n",
    "#setting up as a polynomial but using degree 1, just to have the easy option later\n",
    "degree = 1\n",
    "est = make_pipeline(PolynomialFeatures(degree), LinearRegression())\n",
    "lr = LinearRegression(fit_intercept=True)\n",
    "\n",
    "# scores_R = cross_val_score(est,\n",
    "#                          X_training,\n",
    "#                          y_training,\n",
    "#                          cv=10)#, scoring='neg_mean_squared_error')\n",
    "# scores_RMSE = cross_val_score(est,\n",
    "#                          X_training,\n",
    "#                          y_training,\n",
    "#                          cv=10, scoring='neg_mean_squared_error')\n",
    "\n",
    "est_fit = est.fit(X_training,y_training)\n",
    "est_score = est.score(X_validate,y_validate)\n",
    "\n",
    "print(est.named_steps['linearregression'].coef_[1:])\n",
    "print(est.named_steps['linearregression'].intercept_)\n"
   ]
  },
  {
   "cell_type": "code",
   "execution_count": 69,
   "metadata": {},
   "outputs": [
    {
     "data": {
      "text/plain": [
       "0.19817164798935036"
      ]
     },
     "execution_count": 69,
     "metadata": {},
     "output_type": "execute_result"
    }
   ],
   "source": [
    "calc_RMSE_error(X_validate,y_validate,est)"
   ]
  },
  {
   "cell_type": "code",
   "execution_count": 70,
   "metadata": {},
   "outputs": [
    {
     "name": "stderr",
     "output_type": "stream",
     "text": [
      "/anaconda3/lib/python3.6/site-packages/scipy/stats/stats.py:1713: FutureWarning: Using a non-tuple sequence for multidimensional indexing is deprecated; use `arr[tuple(seq)]` instead of `arr[seq]`. In the future this will be interpreted as an array index, `arr[np.array(seq)]`, which will result either in an error or a different result.\n",
      "  return np.add.reduce(sorted[indexer] * weights, axis=axis) / sumval\n"
     ]
    },
    {
     "data": {
      "image/png": "[encoded data removed]",
      "text/plain": [
       "<Figure size 432x288 with 1 Axes>"
      ]
     },
     "metadata": {},
     "output_type": "display_data"
    }
   ],
   "source": [
    "final = est.fit(X,y)\n",
    "y_pred = final.predict(X)\n",
    "ax = sns.regplot(10**y,10**y_pred)"
   ]
  },
  {
   "cell_type": "code",
   "execution_count": null,
   "metadata": {},
   "outputs": [],
   "source": []
  }
 ],
 "metadata": {
  "kernelspec": {
   "display_name": "Python 3",
   "language": "python",
   "name": "python3"
  },
  "language_info": {
   "codemirror_mode": {
    "name": "ipython",
    "version": 3
   },
   "file_extension": ".py",
   "mimetype": "text/x-python",
   "name": "python",
   "nbconvert_exporter": "python",
   "pygments_lexer": "ipython3",
   "version": "3.6.6"
  },
  "toc": {
   "base_numbering": 1,
   "nav_menu": {},
   "number_sections": true,
   "sideBar": true,
   "skip_h1_title": false,
   "title_cell": "Table of Contents",
   "title_sidebar": "Contents",
   "toc_cell": false,
   "toc_position": {},
   "toc_section_display": true,
   "toc_window_display": false
  },
  "varInspector": {
   "cols": {
    "lenName": 16,
    "lenType": 16,
    "lenVar": 40
   },
   "kernels_config": {
    "python": {
     "delete_cmd_postfix": "",
     "delete_cmd_prefix": "del ",
     "library": "var_list.py",
     "varRefreshCmd": "print(var_dic_list())"
    },
    "r": {
     "delete_cmd_postfix": ") ",
     "delete_cmd_prefix": "rm(",
     "library": "var_list.r",
     "varRefreshCmd": "cat(var_dic_list()) "
    }
   },
   "types_to_exclude": [
    "module",
    "function",
    "builtin_function_or_method",
    "instance",
    "_Feature"
   ],
   "window_display": false
  }
 },
 "nbformat": 4,
 "nbformat_minor": 2
}
